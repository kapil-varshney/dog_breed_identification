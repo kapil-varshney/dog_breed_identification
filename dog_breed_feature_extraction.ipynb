{
 "cells": [
  {
   "cell_type": "code",
   "execution_count": 1,
   "metadata": {},
   "outputs": [
    {
     "name": "stderr",
     "output_type": "stream",
     "text": [
      "Using TensorFlow backend.\n",
      "/home/prateek/anaconda3/lib/python3.6/importlib/_bootstrap.py:205: RuntimeWarning: compiletime version 3.5 of module 'tensorflow.python.framework.fast_tensor_util' does not match runtime version 3.6\n",
      "  return f(*args, **kwds)\n"
     ]
    }
   ],
   "source": [
    "%matplotlib inline\n",
    "import pandas as pd\n",
    "import numpy as np\n",
    "import matplotlib.pyplot as plt\n",
    "import keras\n",
    "from IPython.display import clear_output\n",
    "from tqdm import tqdm\n",
    "import cv2\n",
    "\n",
    "from sklearn.utils import shuffle\n",
    "from sklearn.model_selection import train_test_split, GridSearchCV\n",
    "from sklearn.linear_model import LogisticRegression\n",
    "from sklearn.metrics import classification_report\n",
    "from sklearn.preprocessing import LabelEncoder\n",
    "from keras.preprocessing.image import load_img, img_to_array\n",
    "from keras.applications import imagenet_utils\n",
    "from keras.applications.vgg16 import VGG16\n",
    "from keras.applications.vgg19 import VGG19\n",
    "from keras.applications.resnet50 import ResNet50\n",
    "from keras.applications.inception_v3 import InceptionV3\n",
    "from keras.applications.inception_resnet_v2 import InceptionResNetV2\n",
    "from keras.applications.xception import Xception"
   ]
  },
  {
   "cell_type": "code",
   "execution_count": 2,
   "metadata": {
    "collapsed": true
   },
   "outputs": [],
   "source": [
    "# Read the labels csv\n",
    "labels_df = pd.read_csv('dataset/labels.csv')\n",
    "labels_df = shuffle(labels_df, random_state=1)\n",
    "\n",
    "# Find the number of classes\n",
    "num_classes = len(labels_df.loc[:,'breed'].unique())\n",
    "\n",
    "# Encode the breed labels\n",
    "le = LabelEncoder()\n",
    "y = le.fit_transform(list(labels_df.breed))"
   ]
  },
  {
   "cell_type": "code",
   "execution_count": 3,
   "metadata": {},
   "outputs": [
    {
     "name": "stderr",
     "output_type": "stream",
     "text": [
      "100%|██████████| 10222/10222 [00:35<00:00, 285.86it/s]\n"
     ]
    }
   ],
   "source": [
    "#Initialize the train x and y\n",
    "x = []\n",
    "\n",
    "#Define the image size (for resizing)\n",
    "im_size = 256\n",
    "\n",
    "# Read the images and labels and append to the train lists\n",
    "for img_id in tqdm(list(labels_df.id)):\n",
    "    # Load the image and resize it\n",
    "    img = load_img('dataset/train/{}.jpg'.format(img_id), target_size=(im_size, im_size))\n",
    "    #Convert the image to a numpy array\n",
    "    img = img_to_array(img)\n",
    "    # Expand dimensions so that the images can be stacked together\n",
    "    img = np.expand_dims(img, axis=0)\n",
    "    # Mean (RGB) subtraction preprocessing\n",
    "    img = imagenet_utils.preprocess_input(img)\n",
    "    # Add the image to the training set\n",
    "    x.append(img)"
   ]
  },
  {
   "cell_type": "code",
   "execution_count": 4,
   "metadata": {
    "collapsed": true
   },
   "outputs": [],
   "source": [
    "# Vertically stack the images from [N x (256,256,3)] to (N, 256, 256, 3)\n",
    "x_arr = np.vstack(x)"
   ]
  },
  {
   "cell_type": "code",
   "execution_count": 5,
   "metadata": {},
   "outputs": [
    {
     "data": {
      "text/plain": [
       "(10222, 256, 256, 3)"
      ]
     },
     "execution_count": 5,
     "metadata": {},
     "output_type": "execute_result"
    }
   ],
   "source": [
    "x_arr.shape"
   ]
  },
  {
   "cell_type": "code",
   "execution_count": 6,
   "metadata": {
    "collapsed": true
   },
   "outputs": [],
   "source": [
    "# Call the pre-trained model without the top layer(classes) and use the predictions as features\n",
    "model = VGG16(weights='imagenet', include_top=False)\n",
    "features = model.predict(x_arr)"
   ]
  },
  {
   "cell_type": "code",
   "execution_count": 7,
   "metadata": {},
   "outputs": [
    {
     "data": {
      "text/plain": [
       "(10222, 8, 8, 512)"
      ]
     },
     "execution_count": 7,
     "metadata": {},
     "output_type": "execute_result"
    }
   ],
   "source": [
    "features.shape"
   ]
  },
  {
   "cell_type": "code",
   "execution_count": 8,
   "metadata": {
    "collapsed": true
   },
   "outputs": [],
   "source": [
    "# Reshape the features to (N, 8x8x512) instead of (N, 8, 8, 512)\n",
    "new_shape = features.shape[1]*features.shape[2]*features.shape[3]\n",
    "features = features.reshape((features.shape[0], new_shape))"
   ]
  },
  {
   "cell_type": "code",
   "execution_count": 9,
   "metadata": {},
   "outputs": [
    {
     "data": {
      "text/plain": [
       "(10222, 32768)"
      ]
     },
     "execution_count": 9,
     "metadata": {},
     "output_type": "execute_result"
    }
   ],
   "source": [
    "features.shape"
   ]
  },
  {
   "cell_type": "code",
   "execution_count": 10,
   "metadata": {
    "collapsed": true
   },
   "outputs": [],
   "source": [
    "# Use the train_test_split function or split the dataset manually, depending on the size\n",
    "# You might run into memory error with the function\n",
    "#x_train, x_test, y_train, y_test = train_test_split(features, y, test_size=0.3, random_state=1)"
   ]
  },
  {
   "cell_type": "code",
   "execution_count": 20,
   "metadata": {
    "collapsed": true
   },
   "outputs": [],
   "source": [
    "# Define the train-test split mark\n",
    "i = int(features.shape[0]*0.7)\n",
    "\n",
    "# Create the train and test set\n",
    "x_train = features[:i]\n",
    "y_train = y[:i]\n",
    "x_test = features[i:]\n",
    "y_test = y[i:]"
   ]
  },
  {
   "cell_type": "code",
   "execution_count": 15,
   "metadata": {},
   "outputs": [
    {
     "data": {
      "text/plain": [
       "GridSearchCV(cv=3, error_score='raise',\n",
       "       estimator=LogisticRegression(C=1.0, class_weight=None, dual=False, fit_intercept=True,\n",
       "          intercept_scaling=1, max_iter=100, multi_class='multinomial',\n",
       "          n_jobs=1, penalty='l2', random_state=None, solver='lbfgs',\n",
       "          tol=0.0001, verbose=0, warm_start=False),\n",
       "       fit_params=None, iid=True, n_jobs=1, param_grid={'C': [0.1]},\n",
       "       pre_dispatch='2*n_jobs', refit=True, return_train_score=True,\n",
       "       scoring=None, verbose=0)"
      ]
     },
     "execution_count": 15,
     "metadata": {},
     "output_type": "execute_result"
    }
   ],
   "source": [
    "#\n",
    "params = {\"C\": [0.1]}\n",
    "lr = LogisticRegression(multi_class='multinomial', solver='lbfgs')\n",
    "model = GridSearchCV(lr, params, cv=3)\n",
    "model.fit(x_train, y_train)"
   ]
  },
  {
   "cell_type": "code",
   "execution_count": 21,
   "metadata": {},
   "outputs": [
    {
     "name": "stdout",
     "output_type": "stream",
     "text": [
      "                                precision    recall  f1-score   support\n",
      "\n",
      "                 affenpinscher       0.82      0.67      0.73        27\n",
      "                  afghan_hound       0.78      0.86      0.82        29\n",
      "           african_hunting_dog       0.91      0.91      0.91        34\n",
      "                      airedale       0.70      0.76      0.73        25\n",
      "american_staffordshire_terrier       0.48      0.48      0.48        25\n",
      "                   appenzeller       0.45      0.48      0.47        21\n",
      "            australian_terrier       0.73      0.53      0.62        30\n",
      "                       basenji       0.85      0.79      0.81        28\n",
      "                        basset       0.76      0.50      0.60        32\n",
      "                        beagle       0.50      0.62      0.55        29\n",
      "            bedlington_terrier       0.91      1.00      0.95        21\n",
      "          bernese_mountain_dog       0.80      0.82      0.81        34\n",
      "       black-and-tan_coonhound       0.79      0.85      0.81        26\n",
      "              blenheim_spaniel       0.71      0.75      0.73        32\n",
      "                    bloodhound       0.77      0.61      0.68        28\n",
      "                      bluetick       0.69      0.80      0.74        30\n",
      "                 border_collie       0.33      0.53      0.41        15\n",
      "                border_terrier       0.75      0.78      0.77        23\n",
      "                        borzoi       0.75      0.50      0.60        24\n",
      "                   boston_bull       0.70      0.61      0.65        23\n",
      "          bouvier_des_flandres       0.56      0.69      0.62        29\n",
      "                         boxer       0.50      0.48      0.49        23\n",
      "             brabancon_griffon       0.63      0.75      0.69        16\n",
      "                        briard       0.38      0.42      0.40        19\n",
      "              brittany_spaniel       0.59      0.53      0.56        19\n",
      "                  bull_mastiff       0.57      0.62      0.59        21\n",
      "                         cairn       0.53      0.63      0.58        27\n",
      "                      cardigan       0.67      0.50      0.57        20\n",
      "      chesapeake_bay_retriever       0.78      0.84      0.81        25\n",
      "                     chihuahua       0.50      0.42      0.45        24\n",
      "                          chow       0.89      0.93      0.91        27\n",
      "                       clumber       0.80      0.90      0.85        31\n",
      "                cocker_spaniel       0.61      0.61      0.61        23\n",
      "                        collie       0.52      0.38      0.44        29\n",
      "        curly-coated_retriever       0.60      0.83      0.70        18\n",
      "                dandie_dinmont       0.81      0.91      0.86        23\n",
      "                         dhole       0.82      0.88      0.85        26\n",
      "                         dingo       0.70      0.66      0.68        29\n",
      "                      doberman       0.76      0.45      0.57        29\n",
      "              english_foxhound       0.74      0.59      0.65        29\n",
      "                english_setter       0.80      0.50      0.62        32\n",
      "              english_springer       0.66      0.92      0.77        25\n",
      "                   entlebucher       0.84      0.72      0.78        36\n",
      "                    eskimo_dog       0.17      0.31      0.22        16\n",
      "         flat-coated_retriever       0.59      0.50      0.54        20\n",
      "                french_bulldog       0.50      0.58      0.54        12\n",
      "               german_shepherd       0.72      0.76      0.74        17\n",
      "   german_short-haired_pointer       0.65      0.72      0.68        18\n",
      "               giant_schnauzer       0.68      0.62      0.65        24\n",
      "              golden_retriever       0.52      0.70      0.59        23\n",
      "                 gordon_setter       0.79      0.79      0.79        24\n",
      "                    great_dane       0.61      0.48      0.54        23\n",
      "                great_pyrenees       0.65      0.70      0.68        37\n",
      "    greater_swiss_mountain_dog       0.50      0.63      0.56        19\n",
      "                   groenendael       0.71      0.85      0.77        26\n",
      "                  ibizan_hound       0.72      0.86      0.78        21\n",
      "                  irish_setter       0.82      0.86      0.84        36\n",
      "                 irish_terrier       0.52      0.60      0.56        20\n",
      "           irish_water_spaniel       0.91      0.83      0.87        35\n",
      "               irish_wolfhound       0.64      0.51      0.57        35\n",
      "             italian_greyhound       0.57      0.46      0.51        26\n",
      "              japanese_spaniel       0.83      0.85      0.84        41\n",
      "                      keeshond       0.89      0.96      0.93        26\n",
      "                        kelpie       0.50      0.74      0.60        23\n",
      "            kerry_blue_terrier       0.75      0.60      0.67        20\n",
      "                      komondor       0.92      0.92      0.92        24\n",
      "                        kuvasz       0.64      0.69      0.67        26\n",
      "            labrador_retriever       0.50      0.43      0.46        28\n",
      "              lakeland_terrier       0.59      0.63      0.61        27\n",
      "                      leonberg       0.90      0.88      0.89        41\n",
      "                         lhasa       0.71      0.44      0.55        34\n",
      "                      malamute       0.57      0.38      0.45        32\n",
      "                      malinois       0.75      0.63      0.69        19\n",
      "                   maltese_dog       0.66      0.86      0.75        29\n",
      "              mexican_hairless       0.77      0.88      0.82        26\n",
      "            miniature_pinscher       0.67      0.76      0.71        37\n",
      "              miniature_poodle       0.30      0.36      0.33        22\n",
      "           miniature_schnauzer       0.53      0.41      0.46        22\n",
      "                  newfoundland       0.57      0.77      0.65        22\n",
      "               norfolk_terrier       0.61      0.58      0.60        24\n",
      "            norwegian_elkhound       0.78      0.91      0.84        23\n",
      "               norwich_terrier       0.57      0.26      0.36        31\n",
      "          old_english_sheepdog       0.82      0.64      0.72        28\n",
      "                    otterhound       0.86      0.71      0.77        17\n",
      "                      papillon       0.78      0.78      0.78        27\n",
      "                      pekinese       0.71      0.60      0.65        20\n",
      "                      pembroke       0.76      0.89      0.82        28\n",
      "                    pomeranian       0.90      0.76      0.83        25\n",
      "                           pug       0.85      0.90      0.88        31\n",
      "                       redbone       0.59      0.42      0.49        24\n",
      "           rhodesian_ridgeback       0.50      0.68      0.58        25\n",
      "                    rottweiler       0.85      0.79      0.81        14\n",
      "                 saint_bernard       0.89      0.76      0.82        21\n",
      "                        saluki       0.48      0.67      0.56        24\n",
      "                       samoyed       0.81      0.76      0.79        29\n",
      "                    schipperke       0.95      0.76      0.84        25\n",
      "                scotch_terrier       0.80      0.89      0.84        27\n",
      "            scottish_deerhound       0.65      0.83      0.73        29\n",
      "              sealyham_terrier       0.80      0.86      0.83        28\n",
      "             shetland_sheepdog       0.62      0.70      0.65        23\n",
      "                      shih-tzu       0.53      0.63      0.58        38\n",
      "                siberian_husky       0.34      0.33      0.34        30\n",
      "                 silky_terrier       0.57      0.57      0.57        23\n",
      "   soft-coated_wheaten_terrier       0.35      0.57      0.43        14\n",
      "     staffordshire_bullterrier       0.56      0.48      0.52        29\n",
      "               standard_poodle       0.62      0.52      0.57        25\n",
      "            standard_schnauzer       0.46      0.55      0.50        20\n",
      "                sussex_spaniel       0.89      0.89      0.89        27\n",
      "               tibetan_mastiff       0.72      0.62      0.67        21\n",
      "               tibetan_terrier       0.74      0.59      0.66        34\n",
      "                    toy_poodle       0.63      0.43      0.51        28\n",
      "                   toy_terrier       0.40      0.36      0.38        22\n",
      "                        vizsla       0.77      0.87      0.82        23\n",
      "                  walker_hound       0.41      0.46      0.43        24\n",
      "                    weimaraner       0.85      0.88      0.86        25\n",
      "        welsh_springer_spaniel       0.82      0.64      0.72        22\n",
      "   west_highland_white_terrier       0.95      0.77      0.85        26\n",
      "                       whippet       0.45      0.54      0.49        28\n",
      "       wire-haired_fox_terrier       0.80      0.80      0.80        20\n",
      "             yorkshire_terrier       0.63      0.67      0.65        18\n",
      "\n",
      "                   avg / total       0.68      0.67      0.67      3067\n",
      "\n"
     ]
    }
   ],
   "source": [
    "# Evalaute the model\n",
    "preds = model.predict(x_test)\n",
    "print(classification_report(y_test, preds, target_names=le.classes_))"
   ]
  },
  {
   "cell_type": "code",
   "execution_count": 18,
   "metadata": {},
   "outputs": [
    {
     "data": {
      "text/plain": [
       "(7155,)"
      ]
     },
     "execution_count": 18,
     "metadata": {},
     "output_type": "execute_result"
    }
   ],
   "source": [
    "y_test.shape"
   ]
  },
  {
   "cell_type": "code",
   "execution_count": 19,
   "metadata": {},
   "outputs": [
    {
     "data": {
      "text/plain": [
       "(3067,)"
      ]
     },
     "execution_count": 19,
     "metadata": {},
     "output_type": "execute_result"
    }
   ],
   "source": [
    "preds.shape"
   ]
  },
  {
   "cell_type": "code",
   "execution_count": 22,
   "metadata": {},
   "outputs": [
    {
     "name": "stdout",
     "output_type": "stream",
     "text": [
      "                                precision    recall  f1-score   support\n",
      "\n",
      "                 affenpinscher       0.77      0.63      0.69        27\n",
      "                  afghan_hound       0.81      0.86      0.83        29\n",
      "           african_hunting_dog       0.91      0.94      0.93        34\n",
      "                      airedale       0.69      0.72      0.71        25\n",
      "american_staffordshire_terrier       0.48      0.44      0.46        25\n",
      "                   appenzeller       0.38      0.52      0.44        21\n",
      "            australian_terrier       0.74      0.57      0.64        30\n",
      "                       basenji       0.87      0.71      0.78        28\n",
      "                        basset       0.72      0.56      0.63        32\n",
      "                        beagle       0.49      0.59      0.53        29\n",
      "            bedlington_terrier       0.81      1.00      0.89        21\n",
      "          bernese_mountain_dog       0.77      0.79      0.78        34\n",
      "       black-and-tan_coonhound       0.72      0.81      0.76        26\n",
      "              blenheim_spaniel       0.81      0.69      0.75        32\n",
      "                    bloodhound       0.82      0.64      0.72        28\n",
      "                      bluetick       0.70      0.77      0.73        30\n",
      "                 border_collie       0.32      0.53      0.40        15\n",
      "                border_terrier       0.84      0.70      0.76        23\n",
      "                        borzoi       0.50      0.67      0.57        24\n",
      "                   boston_bull       0.65      0.57      0.60        23\n",
      "          bouvier_des_flandres       0.58      0.72      0.65        29\n",
      "                         boxer       0.50      0.43      0.47        23\n",
      "             brabancon_griffon       0.62      0.81      0.70        16\n",
      "                        briard       0.47      0.42      0.44        19\n",
      "              brittany_spaniel       0.61      0.58      0.59        19\n",
      "                  bull_mastiff       0.61      0.67      0.64        21\n",
      "                         cairn       0.56      0.70      0.62        27\n",
      "                      cardigan       0.62      0.40      0.48        20\n",
      "      chesapeake_bay_retriever       0.75      0.84      0.79        25\n",
      "                     chihuahua       0.50      0.50      0.50        24\n",
      "                          chow       0.89      0.89      0.89        27\n",
      "                       clumber       0.76      0.90      0.82        31\n",
      "                cocker_spaniel       0.57      0.57      0.57        23\n",
      "                        collie       0.47      0.31      0.38        29\n",
      "        curly-coated_retriever       0.62      0.89      0.73        18\n",
      "                dandie_dinmont       0.81      0.91      0.86        23\n",
      "                         dhole       0.79      0.88      0.84        26\n",
      "                         dingo       0.76      0.66      0.70        29\n",
      "                      doberman       0.68      0.45      0.54        29\n",
      "              english_foxhound       0.72      0.62      0.67        29\n",
      "                english_setter       0.82      0.44      0.57        32\n",
      "              english_springer       0.70      0.84      0.76        25\n",
      "                   entlebucher       0.81      0.72      0.76        36\n",
      "                    eskimo_dog       0.17      0.25      0.20        16\n",
      "         flat-coated_retriever       0.67      0.50      0.57        20\n",
      "                french_bulldog       0.50      0.58      0.54        12\n",
      "               german_shepherd       0.76      0.76      0.76        17\n",
      "   german_short-haired_pointer       0.65      0.72      0.68        18\n",
      "               giant_schnauzer       0.68      0.71      0.69        24\n",
      "              golden_retriever       0.59      0.74      0.65        23\n",
      "                 gordon_setter       0.83      0.79      0.81        24\n",
      "                    great_dane       0.77      0.43      0.56        23\n",
      "                great_pyrenees       0.68      0.70      0.69        37\n",
      "    greater_swiss_mountain_dog       0.53      0.42      0.47        19\n",
      "                   groenendael       0.70      0.81      0.75        26\n",
      "                  ibizan_hound       0.72      0.86      0.78        21\n",
      "                  irish_setter       0.88      0.83      0.86        36\n",
      "                 irish_terrier       0.55      0.60      0.57        20\n",
      "           irish_water_spaniel       0.91      0.89      0.90        35\n",
      "               irish_wolfhound       0.63      0.54      0.58        35\n",
      "             italian_greyhound       0.59      0.50      0.54        26\n",
      "              japanese_spaniel       0.82      0.80      0.81        41\n",
      "                      keeshond       0.96      0.96      0.96        26\n",
      "                        kelpie       0.56      0.78      0.65        23\n",
      "            kerry_blue_terrier       0.76      0.65      0.70        20\n",
      "                      komondor       0.88      0.92      0.90        24\n",
      "                        kuvasz       0.75      0.69      0.72        26\n",
      "            labrador_retriever       0.55      0.43      0.48        28\n",
      "              lakeland_terrier       0.56      0.52      0.54        27\n",
      "                      leonberg       0.90      0.88      0.89        41\n",
      "                         lhasa       0.61      0.41      0.49        34\n",
      "                      malamute       0.63      0.38      0.47        32\n",
      "                      malinois       0.73      0.58      0.65        19\n",
      "                   maltese_dog       0.70      0.79      0.74        29\n",
      "              mexican_hairless       0.68      0.88      0.77        26\n",
      "            miniature_pinscher       0.66      0.73      0.69        37\n",
      "              miniature_poodle       0.32      0.41      0.36        22\n",
      "           miniature_schnauzer       0.50      0.41      0.45        22\n",
      "                  newfoundland       0.55      0.77      0.64        22\n",
      "               norfolk_terrier       0.56      0.58      0.57        24\n",
      "            norwegian_elkhound       0.78      0.91      0.84        23\n",
      "               norwich_terrier       0.62      0.32      0.43        31\n",
      "          old_english_sheepdog       0.86      0.64      0.73        28\n",
      "                    otterhound       0.80      0.71      0.75        17\n",
      "                      papillon       0.80      0.74      0.77        27\n",
      "                      pekinese       0.71      0.60      0.65        20\n",
      "                      pembroke       0.76      0.89      0.82        28\n",
      "                    pomeranian       0.80      0.80      0.80        25\n",
      "                           pug       0.88      0.90      0.89        31\n",
      "                       redbone       0.59      0.42      0.49        24\n",
      "           rhodesian_ridgeback       0.56      0.76      0.64        25\n",
      "                    rottweiler       1.00      0.71      0.83        14\n",
      "                 saint_bernard       0.90      0.90      0.90        21\n",
      "                        saluki       0.44      0.67      0.53        24\n",
      "                       samoyed       0.85      0.79      0.82        29\n",
      "                    schipperke       0.86      0.76      0.81        25\n",
      "                scotch_terrier       0.85      0.85      0.85        27\n",
      "            scottish_deerhound       0.62      0.86      0.72        29\n",
      "              sealyham_terrier       0.85      0.82      0.84        28\n",
      "             shetland_sheepdog       0.56      0.61      0.58        23\n",
      "                      shih-tzu       0.50      0.61      0.55        38\n",
      "                siberian_husky       0.37      0.47      0.41        30\n",
      "                 silky_terrier       0.60      0.52      0.56        23\n",
      "   soft-coated_wheaten_terrier       0.39      0.64      0.49        14\n",
      "     staffordshire_bullterrier       0.54      0.48      0.51        29\n",
      "               standard_poodle       0.52      0.52      0.52        25\n",
      "            standard_schnauzer       0.39      0.45      0.42        20\n",
      "                sussex_spaniel       0.89      0.93      0.91        27\n",
      "               tibetan_mastiff       0.70      0.67      0.68        21\n",
      "               tibetan_terrier       0.78      0.62      0.69        34\n",
      "                    toy_poodle       0.65      0.39      0.49        28\n",
      "                   toy_terrier       0.44      0.36      0.40        22\n",
      "                        vizsla       0.68      0.83      0.75        23\n",
      "                  walker_hound       0.41      0.50      0.45        24\n",
      "                    weimaraner       0.84      0.84      0.84        25\n",
      "        welsh_springer_spaniel       0.88      0.68      0.77        22\n",
      "   west_highland_white_terrier       0.95      0.73      0.83        26\n",
      "                       whippet       0.39      0.54      0.45        28\n",
      "       wire-haired_fox_terrier       0.67      0.80      0.73        20\n",
      "             yorkshire_terrier       0.57      0.67      0.62        18\n",
      "\n",
      "                   avg / total       0.68      0.67      0.67      3067\n",
      "\n"
     ]
    }
   ],
   "source": [
    "params = {\"C\": [1]}\n",
    "lr = LogisticRegression(multi_class='multinomial', solver='lbfgs')\n",
    "model = GridSearchCV(lr, params, cv=3)\n",
    "model.fit(x_train, y_train)\n",
    "# Evalaute the model\n",
    "preds = model.predict(x_test)\n",
    "print(classification_report(y_test, preds, target_names=le.classes_))"
   ]
  },
  {
   "cell_type": "code",
   "execution_count": 24,
   "metadata": {},
   "outputs": [
    {
     "name": "stdout",
     "output_type": "stream",
     "text": [
      "                                precision    recall  f1-score   support\n",
      "\n",
      "                 affenpinscher       0.68      0.70      0.69        27\n",
      "                  afghan_hound       0.81      0.86      0.83        29\n",
      "           african_hunting_dog       0.89      0.91      0.90        34\n",
      "                      airedale       0.53      0.72      0.61        25\n",
      "american_staffordshire_terrier       0.47      0.36      0.41        25\n",
      "                   appenzeller       0.50      0.33      0.40        21\n",
      "            australian_terrier       0.67      0.47      0.55        30\n",
      "                       basenji       0.64      0.57      0.60        28\n",
      "                        basset       0.75      0.47      0.58        32\n",
      "                        beagle       0.42      0.62      0.50        29\n",
      "            bedlington_terrier       0.72      1.00      0.84        21\n",
      "          bernese_mountain_dog       0.63      0.85      0.72        34\n",
      "       black-and-tan_coonhound       0.61      0.73      0.67        26\n",
      "              blenheim_spaniel       0.76      0.81      0.79        32\n",
      "                    bloodhound       0.68      0.61      0.64        28\n",
      "                      bluetick       0.63      0.73      0.68        30\n",
      "                 border_collie       0.41      0.60      0.49        15\n",
      "                border_terrier       0.77      0.87      0.82        23\n",
      "                        borzoi       0.62      0.54      0.58        24\n",
      "                   boston_bull       0.67      0.78      0.72        23\n",
      "          bouvier_des_flandres       0.57      0.69      0.62        29\n",
      "                         boxer       0.40      0.35      0.37        23\n",
      "             brabancon_griffon       0.63      0.75      0.69        16\n",
      "                        briard       0.41      0.37      0.39        19\n",
      "              brittany_spaniel       0.69      0.47      0.56        19\n",
      "                  bull_mastiff       0.57      0.62      0.59        21\n",
      "                         cairn       0.49      0.63      0.55        27\n",
      "                      cardigan       0.50      0.40      0.44        20\n",
      "      chesapeake_bay_retriever       0.73      0.76      0.75        25\n",
      "                     chihuahua       0.71      0.42      0.53        24\n",
      "                          chow       0.92      0.89      0.91        27\n",
      "                       clumber       0.74      0.94      0.83        31\n",
      "                cocker_spaniel       0.54      0.61      0.57        23\n",
      "                        collie       0.47      0.24      0.32        29\n",
      "        curly-coated_retriever       0.56      0.83      0.67        18\n",
      "                dandie_dinmont       0.74      0.87      0.80        23\n",
      "                         dhole       0.77      0.92      0.84        26\n",
      "                         dingo       0.73      0.66      0.69        29\n",
      "                      doberman       0.75      0.41      0.53        29\n",
      "              english_foxhound       0.78      0.62      0.69        29\n",
      "                english_setter       0.63      0.38      0.47        32\n",
      "              english_springer       0.70      0.92      0.79        25\n",
      "                   entlebucher       0.74      0.81      0.77        36\n",
      "                    eskimo_dog       0.14      0.19      0.16        16\n",
      "         flat-coated_retriever       0.56      0.50      0.53        20\n",
      "                french_bulldog       0.75      0.50      0.60        12\n",
      "               german_shepherd       0.75      0.71      0.73        17\n",
      "   german_short-haired_pointer       0.64      0.78      0.70        18\n",
      "               giant_schnauzer       0.71      0.71      0.71        24\n",
      "              golden_retriever       0.58      0.61      0.60        23\n",
      "                 gordon_setter       0.62      0.62      0.62        24\n",
      "                    great_dane       0.53      0.39      0.45        23\n",
      "                great_pyrenees       0.58      0.59      0.59        37\n",
      "    greater_swiss_mountain_dog       0.53      0.42      0.47        19\n",
      "                   groenendael       0.77      0.88      0.82        26\n",
      "                  ibizan_hound       0.60      0.86      0.71        21\n",
      "                  irish_setter       0.86      0.86      0.86        36\n",
      "                 irish_terrier       0.39      0.45      0.42        20\n",
      "           irish_water_spaniel       0.82      0.80      0.81        35\n",
      "               irish_wolfhound       0.53      0.46      0.49        35\n",
      "             italian_greyhound       0.43      0.38      0.41        26\n",
      "              japanese_spaniel       0.80      0.80      0.80        41\n",
      "                      keeshond       0.89      0.96      0.93        26\n",
      "                        kelpie       0.48      0.70      0.57        23\n",
      "            kerry_blue_terrier       0.74      0.70      0.72        20\n",
      "                      komondor       0.84      0.88      0.86        24\n",
      "                        kuvasz       0.58      0.54      0.56        26\n",
      "            labrador_retriever       0.37      0.36      0.36        28\n",
      "              lakeland_terrier       0.47      0.30      0.36        27\n",
      "                      leonberg       0.90      0.85      0.88        41\n",
      "                         lhasa       0.61      0.32      0.42        34\n",
      "                      malamute       0.57      0.25      0.35        32\n",
      "                      malinois       0.71      0.63      0.67        19\n",
      "                   maltese_dog       0.59      0.79      0.68        29\n",
      "              mexican_hairless       0.70      0.88      0.78        26\n",
      "            miniature_pinscher       0.69      0.65      0.67        37\n",
      "              miniature_poodle       0.27      0.27      0.27        22\n",
      "           miniature_schnauzer       0.53      0.36      0.43        22\n",
      "                  newfoundland       0.50      0.59      0.54        22\n",
      "               norfolk_terrier       0.54      0.58      0.56        24\n",
      "            norwegian_elkhound       0.71      0.87      0.78        23\n",
      "               norwich_terrier       0.56      0.29      0.38        31\n",
      "          old_english_sheepdog       0.72      0.64      0.68        28\n",
      "                    otterhound       0.76      0.76      0.76        17\n",
      "                      papillon       0.83      0.89      0.86        27\n",
      "                      pekinese       0.50      0.45      0.47        20\n",
      "                      pembroke       0.74      0.82      0.78        28\n",
      "                    pomeranian       0.86      0.76      0.81        25\n",
      "                           pug       0.81      0.84      0.83        31\n",
      "                       redbone       0.50      0.33      0.40        24\n",
      "           rhodesian_ridgeback       0.44      0.60      0.51        25\n",
      "                    rottweiler       0.67      0.71      0.69        14\n",
      "                 saint_bernard       0.90      0.86      0.88        21\n",
      "                        saluki       0.46      0.67      0.54        24\n",
      "                       samoyed       0.62      0.90      0.73        29\n",
      "                    schipperke       0.77      0.80      0.78        25\n",
      "                scotch_terrier       0.85      0.85      0.85        27\n",
      "            scottish_deerhound       0.54      0.86      0.67        29\n",
      "              sealyham_terrier       0.81      0.79      0.80        28\n",
      "             shetland_sheepdog       0.52      0.61      0.56        23\n",
      "                      shih-tzu       0.43      0.42      0.43        38\n",
      "                siberian_husky       0.35      0.37      0.36        30\n",
      "                 silky_terrier       0.57      0.57      0.57        23\n",
      "   soft-coated_wheaten_terrier       0.30      0.50      0.38        14\n",
      "     staffordshire_bullterrier       0.57      0.41      0.48        29\n",
      "               standard_poodle       0.67      0.40      0.50        25\n",
      "            standard_schnauzer       0.43      0.50      0.47        20\n",
      "                sussex_spaniel       0.92      0.89      0.91        27\n",
      "               tibetan_mastiff       0.61      0.67      0.64        21\n",
      "               tibetan_terrier       0.60      0.53      0.56        34\n",
      "                    toy_poodle       0.47      0.25      0.33        28\n",
      "                   toy_terrier       0.38      0.27      0.32        22\n",
      "                        vizsla       0.76      0.83      0.79        23\n",
      "                  walker_hound       0.41      0.38      0.39        24\n",
      "                    weimaraner       0.75      0.84      0.79        25\n",
      "        welsh_springer_spaniel       0.78      0.64      0.70        22\n",
      "   west_highland_white_terrier       0.79      0.73      0.76        26\n",
      "                       whippet       0.45      0.46      0.46        28\n",
      "       wire-haired_fox_terrier       0.64      0.70      0.67        20\n",
      "             yorkshire_terrier       0.55      0.61      0.58        18\n",
      "\n",
      "                   avg / total       0.64      0.63      0.63      3067\n",
      "\n"
     ]
    }
   ],
   "source": [
    "from sklearn.svm import LinearSVC\n",
    "model = LinearSVC()\n",
    "model.fit(x_train, y_train)\n",
    "# Evalaute the model\n",
    "preds = model.predict(x_test)\n",
    "print(classification_report(y_test, preds, target_names=le.classes_))"
   ]
  },
  {
   "cell_type": "code",
   "execution_count": 25,
   "metadata": {},
   "outputs": [
    {
     "name": "stderr",
     "output_type": "stream",
     "text": [
      "/home/prateek/anaconda3/lib/python3.6/site-packages/sklearn/linear_model/stochastic_gradient.py:84: FutureWarning: max_iter and tol parameters have been added in <class 'sklearn.linear_model.stochastic_gradient.SGDClassifier'> in 0.19. If both are left unset, they default to max_iter=5 and tol=None. If tol is not None, max_iter defaults to max_iter=1000. From 0.21, default max_iter will be 1000, and default tol will be 1e-3.\n",
      "  \"and default tol will be 1e-3.\" % type(self), FutureWarning)\n"
     ]
    },
    {
     "name": "stdout",
     "output_type": "stream",
     "text": [
      "                                precision    recall  f1-score   support\n",
      "\n",
      "                 affenpinscher       0.67      0.67      0.67        27\n",
      "                  afghan_hound       0.75      0.83      0.79        29\n",
      "           african_hunting_dog       0.83      0.88      0.86        34\n",
      "                      airedale       0.44      0.64      0.52        25\n",
      "american_staffordshire_terrier       0.26      0.40      0.31        25\n",
      "                   appenzeller       0.35      0.38      0.36        21\n",
      "            australian_terrier       0.58      0.37      0.45        30\n",
      "                       basenji       0.37      0.50      0.42        28\n",
      "                        basset       0.62      0.41      0.49        32\n",
      "                        beagle       0.41      0.59      0.49        29\n",
      "            bedlington_terrier       0.95      0.86      0.90        21\n",
      "          bernese_mountain_dog       0.76      0.74      0.75        34\n",
      "       black-and-tan_coonhound       0.61      0.42      0.50        26\n",
      "              blenheim_spaniel       0.87      0.62      0.73        32\n",
      "                    bloodhound       0.62      0.75      0.68        28\n",
      "                      bluetick       0.51      0.67      0.58        30\n",
      "                 border_collie       0.33      0.33      0.33        15\n",
      "                border_terrier       0.49      0.83      0.61        23\n",
      "                        borzoi       0.41      0.38      0.39        24\n",
      "                   boston_bull       0.62      0.70      0.65        23\n",
      "          bouvier_des_flandres       0.41      0.48      0.44        29\n",
      "                         boxer       0.26      0.43      0.32        23\n",
      "             brabancon_griffon       0.50      0.75      0.60        16\n",
      "                        briard       0.43      0.16      0.23        19\n",
      "              brittany_spaniel       0.56      0.26      0.36        19\n",
      "                  bull_mastiff       0.67      0.57      0.62        21\n",
      "                         cairn       0.50      0.56      0.53        27\n",
      "                      cardigan       0.47      0.35      0.40        20\n",
      "      chesapeake_bay_retriever       1.00      0.40      0.57        25\n",
      "                     chihuahua       0.40      0.42      0.41        24\n",
      "                          chow       0.64      0.67      0.65        27\n",
      "                       clumber       0.55      0.90      0.68        31\n",
      "                cocker_spaniel       0.58      0.30      0.40        23\n",
      "                        collie       0.32      0.28      0.30        29\n",
      "        curly-coated_retriever       0.61      0.61      0.61        18\n",
      "                dandie_dinmont       0.65      0.65      0.65        23\n",
      "                         dhole       0.78      0.81      0.79        26\n",
      "                         dingo       0.88      0.48      0.62        29\n",
      "                      doberman       0.57      0.28      0.37        29\n",
      "              english_foxhound       0.61      0.66      0.63        29\n",
      "                english_setter       0.45      0.31      0.37        32\n",
      "              english_springer       0.82      0.72      0.77        25\n",
      "                   entlebucher       0.60      0.81      0.69        36\n",
      "                    eskimo_dog       0.09      0.12      0.10        16\n",
      "         flat-coated_retriever       0.33      0.50      0.40        20\n",
      "                french_bulldog       0.67      0.50      0.57        12\n",
      "               german_shepherd       0.44      0.47      0.46        17\n",
      "   german_short-haired_pointer       0.48      0.61      0.54        18\n",
      "               giant_schnauzer       0.38      0.33      0.36        24\n",
      "              golden_retriever       0.50      0.74      0.60        23\n",
      "                 gordon_setter       0.52      0.50      0.51        24\n",
      "                    great_dane       0.41      0.30      0.35        23\n",
      "                great_pyrenees       0.73      0.51      0.60        37\n",
      "    greater_swiss_mountain_dog       0.70      0.37      0.48        19\n",
      "                   groenendael       0.71      0.58      0.64        26\n",
      "                  ibizan_hound       0.56      0.71      0.63        21\n",
      "                  irish_setter       0.82      0.50      0.62        36\n",
      "                 irish_terrier       1.00      0.20      0.33        20\n",
      "           irish_water_spaniel       0.88      0.66      0.75        35\n",
      "               irish_wolfhound       0.40      0.46      0.43        35\n",
      "             italian_greyhound       0.37      0.27      0.31        26\n",
      "              japanese_spaniel       0.80      0.78      0.79        41\n",
      "                      keeshond       0.81      0.81      0.81        26\n",
      "                        kelpie       0.50      0.48      0.49        23\n",
      "            kerry_blue_terrier       0.60      0.30      0.40        20\n",
      "                      komondor       0.86      0.75      0.80        24\n",
      "                        kuvasz       0.49      0.69      0.57        26\n",
      "            labrador_retriever       0.45      0.32      0.38        28\n",
      "              lakeland_terrier       0.34      0.37      0.36        27\n",
      "                      leonberg       0.62      0.90      0.73        41\n",
      "                         lhasa       0.73      0.24      0.36        34\n",
      "                      malamute       0.82      0.28      0.42        32\n",
      "                      malinois       0.47      0.89      0.62        19\n",
      "                   maltese_dog       0.85      0.38      0.52        29\n",
      "              mexican_hairless       0.58      0.81      0.68        26\n",
      "            miniature_pinscher       0.60      0.57      0.58        37\n",
      "              miniature_poodle       0.20      0.23      0.21        22\n",
      "           miniature_schnauzer       0.44      0.18      0.26        22\n",
      "                  newfoundland       0.41      0.55      0.47        22\n",
      "               norfolk_terrier       0.26      0.62      0.37        24\n",
      "            norwegian_elkhound       0.46      0.83      0.59        23\n",
      "               norwich_terrier       0.38      0.19      0.26        31\n",
      "          old_english_sheepdog       0.73      0.57      0.64        28\n",
      "                    otterhound       0.48      0.59      0.53        17\n",
      "                      papillon       0.70      0.85      0.77        27\n",
      "                      pekinese       0.25      0.45      0.32        20\n",
      "                      pembroke       0.75      0.75      0.75        28\n",
      "                    pomeranian       0.85      0.68      0.76        25\n",
      "                           pug       0.77      0.55      0.64        31\n",
      "                       redbone       0.60      0.12      0.21        24\n",
      "           rhodesian_ridgeback       0.50      0.32      0.39        25\n",
      "                    rottweiler       0.48      0.79      0.59        14\n",
      "                 saint_bernard       0.47      0.81      0.60        21\n",
      "                        saluki       0.39      0.67      0.49        24\n",
      "                       samoyed       0.73      0.66      0.69        29\n",
      "                    schipperke       0.49      0.72      0.58        25\n",
      "                scotch_terrier       0.71      0.81      0.76        27\n",
      "            scottish_deerhound       0.63      0.83      0.72        29\n",
      "              sealyham_terrier       0.48      0.75      0.58        28\n",
      "             shetland_sheepdog       0.52      0.48      0.50        23\n",
      "                      shih-tzu       0.50      0.37      0.42        38\n",
      "                siberian_husky       0.47      0.30      0.37        30\n",
      "                 silky_terrier       0.61      0.48      0.54        23\n",
      "   soft-coated_wheaten_terrier       0.43      0.43      0.43        14\n",
      "     staffordshire_bullterrier       0.43      0.34      0.38        29\n",
      "               standard_poodle       0.62      0.20      0.30        25\n",
      "            standard_schnauzer       0.39      0.55      0.46        20\n",
      "                sussex_spaniel       0.72      0.78      0.75        27\n",
      "               tibetan_mastiff       0.65      0.52      0.58        21\n",
      "               tibetan_terrier       0.62      0.38      0.47        34\n",
      "                    toy_poodle       0.33      0.50      0.40        28\n",
      "                   toy_terrier       0.20      0.05      0.07        22\n",
      "                        vizsla       0.57      0.70      0.63        23\n",
      "                  walker_hound       0.33      0.12      0.18        24\n",
      "                    weimaraner       0.71      0.60      0.65        25\n",
      "        welsh_springer_spaniel       0.79      0.50      0.61        22\n",
      "   west_highland_white_terrier       0.59      0.73      0.66        26\n",
      "                       whippet       0.35      0.61      0.45        28\n",
      "       wire-haired_fox_terrier       0.40      0.70      0.51        20\n",
      "             yorkshire_terrier       0.41      0.50      0.45        18\n",
      "\n",
      "                   avg / total       0.57      0.54      0.53      3067\n",
      "\n"
     ]
    }
   ],
   "source": [
    "from sklearn.linear_model import SGDClassifier\n",
    "model = SGDClassifier()\n",
    "model.fit(x_train, y_train)\n",
    "# Evalaute the model\n",
    "preds = model.predict(x_test)\n",
    "print(classification_report(y_test, preds, target_names=le.classes_))"
   ]
  },
  {
   "cell_type": "code",
   "execution_count": null,
   "metadata": {
    "collapsed": true
   },
   "outputs": [],
   "source": []
  }
 ],
 "metadata": {
  "kernelspec": {
   "display_name": "Python 3",
   "language": "python",
   "name": "python3"
  },
  "language_info": {
   "codemirror_mode": {
    "name": "ipython",
    "version": 3
   },
   "file_extension": ".py",
   "mimetype": "text/x-python",
   "name": "python",
   "nbconvert_exporter": "python",
   "pygments_lexer": "ipython3",
   "version": "3.6.1"
  }
 },
 "nbformat": 4,
 "nbformat_minor": 2
}
