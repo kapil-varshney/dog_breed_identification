{
 "cells": [
  {
   "cell_type": "code",
   "execution_count": 64,
   "metadata": {},
   "outputs": [],
   "source": [
    "%matplotlib inline\n",
    "import pandas as pd\n",
    "import numpy as np\n",
    "import matplotlib.pyplot as plt\n",
    "import keras\n",
    "from IPython.display import clear_output\n",
    "from tqdm import tqdm\n",
    "import cv2\n",
    "\n",
    "from sklearn.utils import shuffle\n",
    "from sklearn.model_selection import train_test_split\n",
    "from sklearn.preprocessing import LabelEncoder\n",
    "from keras.preprocessing.image import load_img, img_to_array\n",
    "from keras.applications import imagenet_utils\n",
    "from keras.applications.vgg16 import VGG16\n",
    "from keras.applications.vgg19 import VGG19\n",
    "from keras.applications.resnet50 import ResNet50\n",
    "from keras.applications.inception_v3 import InceptionV3\n",
    "from keras.applications.inception_resnet_v2 import InceptionResNetV2\n",
    "from keras.applications.xception import Xception"
   ]
  },
  {
   "cell_type": "code",
   "execution_count": 65,
   "metadata": {
    "collapsed": true
   },
   "outputs": [],
   "source": [
    "# Read the labels csv\n",
    "labels_df = pd.read_csv('dataset/labels.csv')\n",
    "labels_df = shuffle(labels_df, random_state=1)\n",
    "\n",
    "# Find the number of classes\n",
    "num_classes = len(labels_df.loc[:,'breed'].unique())\n",
    "\n",
    "# Encode the breed labels\n",
    "le = LabelEncoder()\n",
    "y = le.fit_transform(list(labels_df.breed))"
   ]
  },
  {
   "cell_type": "code",
   "execution_count": 66,
   "metadata": {},
   "outputs": [
    {
     "name": "stderr",
     "output_type": "stream",
     "text": [
      "\n",
      "  0%|          | 0/10222 [00:00<?, ?it/s]\u001b[A\n",
      "  0%|          | 28/10222 [00:00<00:37, 273.29it/s]\u001b[A\n",
      "  1%|          | 59/10222 [00:00<00:35, 282.53it/s]\u001b[A\n",
      "  1%|          | 93/10222 [00:00<00:34, 296.64it/s]\u001b[A\n",
      "  1%|          | 126/10222 [00:00<00:33, 305.30it/s]\u001b[A\n",
      "  2%|▏         | 157/10222 [00:00<00:33, 300.73it/s]\u001b[A\n",
      "  2%|▏         | 183/10222 [00:00<00:37, 269.68it/s]\u001b[A\n",
      "  2%|▏         | 218/10222 [00:00<00:34, 287.47it/s]\u001b[A\n",
      "  2%|▏         | 251/10222 [00:00<00:33, 296.29it/s]\u001b[A\n",
      "  3%|▎         | 284/10222 [00:00<00:32, 303.64it/s]\u001b[A\n",
      "  3%|▎         | 314/10222 [00:01<00:32, 302.45it/s]\u001b[A\n",
      "  3%|▎         | 348/10222 [00:01<00:31, 310.63it/s]\u001b[A\n",
      "  4%|▎         | 380/10222 [00:01<00:31, 311.16it/s]\u001b[A\n",
      "  4%|▍         | 412/10222 [00:01<00:31, 312.82it/s]\u001b[A\n",
      "  4%|▍         | 446/10222 [00:01<00:30, 318.90it/s]\u001b[A\n",
      "  5%|▍         | 479/10222 [00:01<00:30, 322.11it/s]\u001b[A\n",
      "  5%|▌         | 512/10222 [00:01<00:30, 316.86it/s]\u001b[A\n",
      "  5%|▌         | 545/10222 [00:01<00:30, 319.78it/s]\u001b[A\n",
      "  6%|▌         | 577/10222 [00:01<00:30, 312.62it/s]\u001b[A\n",
      "  6%|▌         | 609/10222 [00:01<00:31, 304.15it/s]\u001b[A\n",
      "100%|██████████| 10222/10222 [00:40<00:00, 254.55it/s]\n"
     ]
    }
   ],
   "source": [
    "#Initialize the train x and y\n",
    "x = []\n",
    "\n",
    "#Define the image size (for resizing)\n",
    "im_size = 256\n",
    "\n",
    "# Read the images and labels and append to the train lists\n",
    "for img_id in tqdm(list(labels_df.id)):\n",
    "    # Load the image and resize it\n",
    "    img = load_img('dataset/train/{}.jpg'.format(img_id), target_size=(im_size, im_size))\n",
    "    #Convert the image to a numpy array\n",
    "    img = img_to_array(img)\n",
    "    # Expand dimensions so that the images can be stacked together\n",
    "    img = np.expand_dims(img, axis=0)\n",
    "    # Mean (RGB) subtraction preprocessing\n",
    "    img = imagenet_utils.preprocess_input(img)\n",
    "    # Add the image to the training set\n",
    "    x.append(img)"
   ]
  },
  {
   "cell_type": "code",
   "execution_count": 70,
   "metadata": {},
   "outputs": [],
   "source": [
    "x_arr = np.vstack(x)"
   ]
  },
  {
   "cell_type": "code",
   "execution_count": 71,
   "metadata": {},
   "outputs": [
    {
     "data": {
      "text/plain": [
       "(10222, 256, 256, 3)"
      ]
     },
     "execution_count": 71,
     "metadata": {},
     "output_type": "execute_result"
    }
   ],
   "source": [
    "x_arr.shape"
   ]
  },
  {
   "cell_type": "code",
   "execution_count": 72,
   "metadata": {
    "collapsed": true
   },
   "outputs": [],
   "source": [
    "model = ResNet50(weights='imagenet', include_top=False)"
   ]
  },
  {
   "cell_type": "code",
   "execution_count": 73,
   "metadata": {
    "collapsed": true
   },
   "outputs": [],
   "source": [
    "features = model.predict(x_arr)"
   ]
  },
  {
   "cell_type": "code",
   "execution_count": 75,
   "metadata": {
    "collapsed": true
   },
   "outputs": [],
   "source": [
    "model = VGG16(weights='imagenet', include_top=False)\n",
    "features = model.predict(x_arr)"
   ]
  },
  {
   "cell_type": "code",
   "execution_count": 76,
   "metadata": {},
   "outputs": [
    {
     "data": {
      "text/plain": [
       "(10222, 8, 8, 512)"
      ]
     },
     "execution_count": 76,
     "metadata": {},
     "output_type": "execute_result"
    }
   ],
   "source": [
    "features.shape"
   ]
  },
  {
   "cell_type": "code",
   "execution_count": 78,
   "metadata": {},
   "outputs": [],
   "source": [
    "new_shape = features.shape[1]*features.shape[2]*features.shape[3]\n"
   ]
  },
  {
   "cell_type": "code",
   "execution_count": 84,
   "metadata": {},
   "outputs": [],
   "source": [
    "features = features.reshape((features.shape[0], new_shape))"
   ]
  },
  {
   "cell_type": "code",
   "execution_count": 85,
   "metadata": {},
   "outputs": [
    {
     "data": {
      "text/plain": [
       "(10222, 32768)"
      ]
     },
     "execution_count": 85,
     "metadata": {},
     "output_type": "execute_result"
    }
   ],
   "source": [
    "features.shape"
   ]
  },
  {
   "cell_type": "code",
   "execution_count": null,
   "metadata": {
    "collapsed": true
   },
   "outputs": [],
   "source": []
  }
 ],
 "metadata": {
  "kernelspec": {
   "display_name": "Python 3",
   "language": "python",
   "name": "python3"
  },
  "language_info": {
   "codemirror_mode": {
    "name": "ipython",
    "version": 3
   },
   "file_extension": ".py",
   "mimetype": "text/x-python",
   "name": "python",
   "nbconvert_exporter": "python",
   "pygments_lexer": "ipython3",
   "version": "3.6.1"
  }
 },
 "nbformat": 4,
 "nbformat_minor": 2
}
